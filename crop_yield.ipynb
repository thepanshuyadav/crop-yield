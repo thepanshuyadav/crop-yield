{
 "cells": [
  {
   "cell_type": "markdown",
   "metadata": {},
   "source": [
    "# Decision Tree Regressor to determine Crop Yield.\n",
    "\n",
    "## Problem Statement\n",
    "Agriculture is the backbone of our country's econony as it provides employment to a majority section of our society.\n",
    "However with changing climate there is uncertainty regarding the agricultural produce.\n",
    "A machine learning model can be created to decide this in advance.\n",
    "A model as such surely seems appealing but one should always remember that it predicts based on previous outcomes,\n",
    "thus more the number of previous outcomes more are chances of good prediction.\n",
    "\n",
    "We have used Random Forest Regression to predict the Crop yield(Y) for given feature vector, X = [humidity, moisture,\n",
    "rainfall, meanTemp, minTemp, maxTemp, soil quality- alkaline, chalky, sandy, clay] for the given milllet dataset.\n"
   ]
  },
  {
   "cell_type": "markdown",
   "metadata": {},
   "source": [
    "## Importing Libraries"
   ]
  },
  {
   "cell_type": "code",
   "execution_count": 1,
   "metadata": {
    "pycharm": {
     "name": "#%%\n"
    }
   },
   "outputs": [],
   "source": [
    "# Pandas is used for data manipulation\n",
    "import pandas as pd\n",
    "\n",
    "import numpy as np\n",
    "from sklearn.model_selection import train_test_split"
   ]
  },
  {
   "cell_type": "markdown",
   "metadata": {},
   "source": [
    "## Data Collection"
   ]
  },
  {
   "cell_type": "code",
   "execution_count": 2,
   "metadata": {
    "pycharm": {
     "name": "#%%\n"
    }
   },
   "outputs": [],
   "source": [
    "data = pd.read_csv('/Users/thepanshu/PycharmProjects/CropYield/milletdata.csv')"
   ]
  },
  {
   "cell_type": "markdown",
   "metadata": {},
   "source": [
    "## Handling Missing Attributes"
   ]
  },
  {
   "cell_type": "code",
   "execution_count": 3,
   "metadata": {
    "pycharm": {
     "name": "#%%\n"
    }
   },
   "outputs": [
    {
     "name": "stdout",
     "output_type": "stream",
     "text": [
      "    moisture  rainfall  humidity  meanTemp  maxTemp  minTemp  alkaline  sandy  \\\n",
      "0  12.801685  0.012360      57.0      62.0     71.0     52.0       0.0    1.0   \n",
      "1  12.851654  0.004172      57.0      58.0     73.0     43.0       0.0    1.0   \n",
      "2  12.776774  0.000000      56.0      58.0     69.0     46.0       0.0    0.0   \n",
      "3  12.942001  0.031747      62.0      56.0     70.0     43.0       0.0    1.0   \n",
      "4  12.984652  0.066629      65.0      56.0     70.0     42.0       0.0    0.0   \n",
      "5  12.964471  0.027191      65.0      58.0     70.0     46.0       1.0    0.0   \n",
      "6  12.737998  0.026821      61.0      56.0     70.0     42.0       0.0    0.0   \n",
      "7  12.819382  0.010284      58.0      57.0     72.0     42.0       0.0    0.0   \n",
      "8  12.883909  0.020465      63.0      60.0     76.0     45.0       0.0    0.0   \n",
      "9  12.784513  0.060054      62.0      59.0     71.0     47.0       0.0    1.0   \n",
      "\n",
      "   chalky  clay  label  \n",
      "0       0   0.0      2  \n",
      "1       0   0.0      0  \n",
      "2       1   0.0      4  \n",
      "3       0   0.0      0  \n",
      "4       0   1.0      1  \n",
      "5       0   0.0      0  \n",
      "6       0   1.0      1  \n",
      "7       0   1.0      1  \n",
      "8       1   0.0      0  \n",
      "9       0   0.0      4  \n",
      "The shape of our features is: (800, 11)\n"
     ]
    }
   ],
   "source": [
    "# Replace missing attributes with mean.\n",
    "data.fillna(data.mean(), inplace=True)\n",
    "print(data.head(10))\n",
    "print('The shape of our features is:', data.shape)"
   ]
  },
  {
   "cell_type": "markdown",
   "metadata": {},
   "source": []
  },
  {
   "cell_type": "code",
   "execution_count": 4,
   "metadata": {
    "pycharm": {
     "name": "#%%\n"
    }
   },
   "outputs": [],
   "source": [
    "# iloc for extracting rows\n",
    "label = pd.get_dummies(data.label).iloc[: ,1:]\n",
    "data = pd.concat([data,label],axis=1)\n",
    "data.drop('label', axis=1,inplace=True)\n",
    "train=data.iloc[:, 0:10].values\n",
    "test=data.iloc[: ,10:].values\n"
   ]
  },
  {
   "cell_type": "markdown",
   "metadata": {},
   "source": [
    "# Training and Testing"
   ]
  },
  {
   "cell_type": "code",
   "execution_count": 5,
   "metadata": {
    "pycharm": {
     "name": "#%%\n"
    }
   },
   "outputs": [],
   "source": [
    "X_train,X_test,y_train,y_test=train_test_split(train, test, test_size=0.33)"
   ]
  },
  {
   "cell_type": "markdown",
   "metadata": {},
   "source": [
    "## Pre-processing"
   ]
  },
  {
   "cell_type": "code",
   "execution_count": 6,
   "metadata": {
    "pycharm": {
     "name": "#%%\n"
    }
   },
   "outputs": [
    {
     "name": "stdout",
     "output_type": "stream",
     "text": [
      "[[ 0.92503115 -0.6056408   0.15708972 ... -0.66129655 -0.23031541\n",
      "   1.56015249]\n",
      " [ 0.1103655  -0.6829728   1.7225628  ... -0.66129655 -0.23031541\n",
      "   1.56015249]\n",
      " [ 0.84382078 -0.53181428 -0.0665493  ... -0.66129655 -0.23031541\n",
      "  -0.64215195]\n",
      " ...\n",
      " [ 0.88782147  2.52733664  2.00211157 ... -0.66129655 -0.23031541\n",
      "   1.56015249]\n",
      " [-0.83577216 -0.73126252  0.71618725 ... -0.66129655 -0.23031541\n",
      "  -0.64215195]\n",
      " [ 0.68269222 -0.73126252 -0.01063954 ... -0.66129655 -0.23031541\n",
      "   1.56015249]]\n"
     ]
    }
   ],
   "source": [
    "from sklearn.preprocessing import StandardScaler\n",
    "sc = StandardScaler()\n",
    "#transform data so that it has 0 as mean and 1 as standard deviation\n",
    "X_train = sc.fit_transform(X_train)\n",
    "print(X_train)\n",
    "X_test = sc.transform(X_test)"
   ]
  },
  {
   "cell_type": "markdown",
   "metadata": {},
   "source": [
    "## Regressor Model"
   ]
  },
  {
   "cell_type": "code",
   "execution_count": 7,
   "metadata": {
    "pycharm": {
     "name": "#%%\n"
    }
   },
   "outputs": [],
   "source": [
    "# In Scikit-learn, optimization of decision tree performed by only pre-pruning. Maximum depth of the tree can be used\n",
    "# as a control variable for pre-pruning.\n",
    "from sklearn.tree import DecisionTreeRegressor\n",
    "rg = DecisionTreeRegressor(max_depth= 7,criterion = 'mse', splitter= 'best')"
   ]
  },
  {
   "cell_type": "code",
   "execution_count": 8,
   "metadata": {
    "pycharm": {
     "name": "#%%\n"
    }
   },
   "outputs": [],
   "source": [
    "#Fitting the regressor into training set\n",
    "rg.fit(X_train,y_train)\n",
    "pred = rg.predict(X_test)"
   ]
  },
  {
   "cell_type": "code",
   "execution_count": 9,
   "metadata": {
    "pycharm": {
     "name": "#%%\n"
    }
   },
   "outputs": [
    {
     "name": "stdout",
     "output_type": "stream",
     "text": [
      "The accuracy of this model is:  97.72727272727273\n"
     ]
    }
   ],
   "source": [
    "from sklearn.metrics import accuracy_score\n",
    "# Finding the accuracy of the model\n",
    "a = accuracy_score(y_test,pred)\n",
    "print(\"The accuracy of this model is: \", a*100)"
   ]
  },
  {
   "cell_type": "markdown",
   "metadata": {},
   "source": [
    "## Conclusion"
   ]
  },
  {
   "cell_type": "code",
   "execution_count": 10,
   "metadata": {
    "pycharm": {
     "name": "#%%\n"
    }
   },
   "outputs": [],
   "source": [
    "# Decision tree was made for the problem and it has been found that the accuracy is 95% + with mean squared error\n",
    "# as the tree's criteria. The split for train and test was by 33:67."
   ]
  }
 ],
 "metadata": {
  "kernelspec": {
   "display_name": "Python 3",
   "language": "python",
   "name": "python3"
  },
  "language_info": {
   "codemirror_mode": {
    "name": "ipython",
    "version": 3
   },
   "file_extension": ".py",
   "mimetype": "text/x-python",
   "name": "python",
   "nbconvert_exporter": "python",
   "pygments_lexer": "ipython3",
   "version": "3.8.1"
  }
 },
 "nbformat": 4,
 "nbformat_minor": 1
}